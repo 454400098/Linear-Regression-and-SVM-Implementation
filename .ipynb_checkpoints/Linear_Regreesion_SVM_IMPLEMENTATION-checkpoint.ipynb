{
 "cells": [
  {
   "cell_type": "code",
   "execution_count": 61,
   "metadata": {},
   "outputs": [],
   "source": [
    "import numpy as np\n",
    "import random as rd\n",
    "import matplotlib.pyplot as plt\n",
    "from numpy import *"
   ]
  },
  {
   "cell_type": "code",
   "execution_count": 64,
   "metadata": {},
   "outputs": [],
   "source": [
    "class datasetgenerator:\n",
    "    def __init__(self,size):\n",
    "        self.train_arr = []\n",
    "        self.size = size\n",
    "        self.sigma = math.sqrt(0.1)\n",
    "        self.Y = []\n",
    "        self.gene()\n",
    "        \n",
    "    def gene(self):\n",
    "        for _ in range(self.size):\n",
    "            tmparr = []\n",
    "            tmpfirst10 = random.normal(0,self.sigma,10)\n",
    "            for var in tmpfirst10:\n",
    "                tmparr.append(var)\n",
    "            tmparr.append(tmparr[0]+tmparr[1]+np.random.normal(0,self.sigma))\n",
    "            tmparr.append(tmparr[2]+tmparr[3]+np.random.normal(0,self.sigma))\n",
    "            tmparr.append(tmparr[3]+tmparr[4]+np.random.normal(0,self.sigma))\n",
    "            tmparr.append(0.1*tmparr[6]+np.random.normal(0,self.sigma))\n",
    "            tmparr.append(2*tmparr[1]-10+np.random.normal(0,self.sigma))\n",
    "            # x16~x20\n",
    "            tmp16 = np.random.normal(0,self.sigma,5)\n",
    "            for var in tmp16:\n",
    "                tmparr.append(var)\n",
    "            self.train_arr.append(tmparr)\n",
    "            tmpy = self.computeY(tmparr)\n",
    "            self.Y.append(tmpy)\n",
    "            \n",
    "    def computeY(self,arr):\n",
    "        tmparr = arr\n",
    "        y = 0\n",
    "        i = 1\n",
    "        for i in range(1,11):\n",
    "            y+=(0.6)**i*tmparr[i-1]\n",
    "        y+=10+np.random.normal(0,self.sigma)\n",
    "        return y"
   ]
  },
  {
   "cell_type": "code",
   "execution_count": 68,
   "metadata": {},
   "outputs": [],
   "source": [
    "d = datasetgenerator(1000)"
   ]
  },
  {
   "cell_type": "code",
   "execution_count": null,
   "metadata": {},
   "outputs": [],
   "source": [
    "class Linear_Regression:\n",
    "    def __init__(self,train_arr,Y):\n",
    "        self.train_arr = train_arr\n",
    "        self.Y = Y\n",
    "    def LSR(self,arr_x,arr_y):\n",
    "        mean_x = np.mean(arr_x)\n",
    "        mean_y = np.mean(arr_y)\n",
    "        \n",
    "        #compute total number of values \n",
    "        m = len(arr_y)\n",
    "        \n",
    "        #Compute b1 and b2\n",
    "        numer = 0\n",
    "        denom = 0\n",
    "        "
   ]
  },
  {
   "cell_type": "code",
   "execution_count": null,
   "metadata": {},
   "outputs": [],
   "source": []
  }
 ],
 "metadata": {
  "kernelspec": {
   "display_name": "Python 3",
   "language": "python",
   "name": "python3"
  },
  "language_info": {
   "codemirror_mode": {
    "name": "ipython",
    "version": 3
   },
   "file_extension": ".py",
   "mimetype": "text/x-python",
   "name": "python",
   "nbconvert_exporter": "python",
   "pygments_lexer": "ipython3",
   "version": "3.6.5"
  }
 },
 "nbformat": 4,
 "nbformat_minor": 2
}
