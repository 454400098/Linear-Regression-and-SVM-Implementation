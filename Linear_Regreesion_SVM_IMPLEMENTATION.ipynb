{
 "cells": [
  {
   "cell_type": "code",
   "execution_count": 55,
   "metadata": {},
   "outputs": [],
   "source": [
    "import numpy as np\n",
    "import random as rd\n",
    "import matplotlib.pyplot as plt\n",
    "from numpy import *\n",
    "from numpy.linalg import inv"
   ]
  },
  {
   "cell_type": "code",
   "execution_count": 23,
   "metadata": {},
   "outputs": [],
   "source": [
    "class datasetgenerator:\n",
    "    def __init__(self,size):\n",
    "        self.train_arr = []\n",
    "        self.size = size\n",
    "        self.sigma = math.sqrt(0.1)\n",
    "        self.Y = []\n",
    "        self.gene()\n",
    "        \n",
    "    def gene(self):\n",
    "        for _ in range(self.size):\n",
    "            tmparr = []\n",
    "            tmpfirst10 = random.normal(0,self.sigma,10)\n",
    "            for var in tmpfirst10:\n",
    "                tmparr.append(var)\n",
    "            tmparr.append(tmparr[0]+tmparr[1]+np.random.normal(0,self.sigma))\n",
    "            tmparr.append(tmparr[2]+tmparr[3]+np.random.normal(0,self.sigma))\n",
    "            tmparr.append(tmparr[3]+tmparr[4]+np.random.normal(0,self.sigma))\n",
    "            tmparr.append(0.1*tmparr[6]+np.random.normal(0,self.sigma))\n",
    "            tmparr.append(2*tmparr[1]-10+np.random.normal(0,self.sigma))\n",
    "            # x16~x20\n",
    "            tmp16 = np.random.normal(0,self.sigma,5)\n",
    "            for var in tmp16:\n",
    "                tmparr.append(var)\n",
    "            self.train_arr.append(tmparr)\n",
    "            tmpy = self.computeY(tmparr)\n",
    "            self.Y.append(tmpy)\n",
    "            \n",
    "    def computeY(self,arr):\n",
    "        tmparr = arr\n",
    "        y = 0\n",
    "        i = 1\n",
    "        for i in range(1,11):\n",
    "            y+=(0.6)**i*tmparr[i-1]\n",
    "        y+=10+np.random.normal(0,self.sigma)\n",
    "        return y"
   ]
  },
  {
   "cell_type": "code",
   "execution_count": 182,
   "metadata": {},
   "outputs": [],
   "source": [
    "d = datasetgenerator(1000)"
   ]
  },
  {
   "cell_type": "code",
   "execution_count": 242,
   "metadata": {},
   "outputs": [],
   "source": [
    "class Linear_Regression:\n",
    "    def __init__(self,train_arr,Y,lamda):\n",
    "        self.arr_x = np.asarray(train_arr)\n",
    "        self.arr_y = np.asarray(Y)\n",
    "        self.lamda = lamda\n",
    "    def LSR(self):\n",
    "        w = np.dot(inv(np.dot(self.arr_x.T,self.arr_x)),np.dot(self.arr_x.T,self.arr_y))\n",
    "        return w\n",
    "    \n",
    "    def ridge(self):\n",
    "        w = np.dot(inv(np.dot(self.arr_x.T,self.arr_x)+self.lamda*np.identity(20)),np.dot(self.arr_x.T,self.arr_y))\n",
    "        return w\n",
    "    def predict(self,w):\n",
    "        err = 0\n",
    "        arr_y = np.dot(self.arr_x,w)\n",
    "        for i in range(len(self.arr_y)):\n",
    "            err+=abs(arr_y[i]-self.arr_y[i])**2\n",
    "        return err/2\n",
    "    def ridge_predict(self,w):\n",
    "        err = 0\n",
    "        arr_y = np.dot(self.arr_x,w)\n",
    "        for i in range(len(self.arr_y)):\n",
    "            err+=abs(arr_y[i]-self.arr_y[i])**2\n",
    "        err+=np.dot(w,w)*0.5*self.lamda\n",
    "        return err/2"
   ]
  },
  {
   "cell_type": "code",
   "execution_count": 243,
   "metadata": {},
   "outputs": [],
   "source": [
    "solver = Linear_Regression(d.train_arr,d.Y,0)"
   ]
  },
  {
   "cell_type": "code",
   "execution_count": null,
   "metadata": {},
   "outputs": [],
   "source": []
  }
 ],
 "metadata": {
  "kernelspec": {
   "display_name": "Python 3",
   "language": "python",
   "name": "python3"
  },
  "language_info": {
   "codemirror_mode": {
    "name": "ipython",
    "version": 3
   },
   "file_extension": ".py",
   "mimetype": "text/x-python",
   "name": "python",
   "nbconvert_exporter": "python",
   "pygments_lexer": "ipython3",
   "version": "3.6.5"
  }
 },
 "nbformat": 4,
 "nbformat_minor": 2
}
