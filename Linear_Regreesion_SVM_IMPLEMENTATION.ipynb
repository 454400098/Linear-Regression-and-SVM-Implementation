{
 "cells": [
  {
   "cell_type": "code",
   "execution_count": 22,
   "metadata": {},
   "outputs": [],
   "source": [
    "import numpy as np\n",
    "import random as rd\n",
    "import matplotlib.pyplot as plt\n",
    "from numpy import *\n",
    "from numpy.linalg import inv\n",
    "import matplotlib.pyplot as plt"
   ]
  },
  {
   "cell_type": "code",
   "execution_count": 12,
   "metadata": {},
   "outputs": [],
   "source": [
    "class datasetgenerator:\n",
    "    def __init__(self,size):\n",
    "        self.train_arr = []\n",
    "        self.size = size\n",
    "        self.sigma = math.sqrt(0.1)\n",
    "        self.Y = []\n",
    "        self.gene()\n",
    "        \n",
    "    def gene(self):\n",
    "        for _ in range(self.size):\n",
    "            tmparr = []\n",
    "            a = np.asarray([1])\n",
    "            tmpfirst10 = random.normal(0,self.sigma,10)\n",
    "            tmpfirst10 = np.concatenate((a, tmpfirst10), axis=None)\n",
    "            for var in tmpfirst10:\n",
    "                tmparr.append(var)\n",
    "            tmparr.append(tmparr[0]+tmparr[1]+np.random.normal(0,self.sigma))\n",
    "            tmparr.append(tmparr[2]+tmparr[3]+np.random.normal(0,self.sigma))\n",
    "            tmparr.append(tmparr[3]+tmparr[4]+np.random.normal(0,self.sigma))\n",
    "            tmparr.append(0.1*tmparr[6]+np.random.normal(0,self.sigma))\n",
    "            tmparr.append(2*tmparr[1]-10+np.random.normal(0,self.sigma))\n",
    "            # x16~x20\n",
    "            tmp16 = np.random.normal(0,self.sigma,5)\n",
    "            for var in tmp16:\n",
    "                tmparr.append(var)\n",
    "            self.train_arr.append(tmparr)\n",
    "            tmpy = self.computeY(tmparr)\n",
    "            self.Y.append(tmpy)\n",
    "            \n",
    "    def computeY(self,arr):\n",
    "        tmparr = arr\n",
    "        y = 0\n",
    "        i = 1\n",
    "        for i in range(1,11):\n",
    "            y+=(0.6)**i*tmparr[i-1]\n",
    "        y+=10+np.random.normal(0,self.sigma)\n",
    "        return y"
   ]
  },
  {
   "cell_type": "code",
   "execution_count": 13,
   "metadata": {},
   "outputs": [],
   "source": [
    "d = datasetgenerator(1000)"
   ]
  },
  {
   "cell_type": "code",
   "execution_count": 20,
   "metadata": {},
   "outputs": [],
   "source": [
    "class Linear_Regression:\n",
    "    def __init__(self,train_arr,Y,lamda):\n",
    "        self.arr_x = np.asarray(train_arr)\n",
    "        self.arr_y = np.asarray(Y)\n",
    "        self.lamda = lamda\n",
    "    def LSR(self):\n",
    "        w = np.dot(inv(np.dot(self.arr_x.T,self.arr_x)),np.dot(self.arr_x.T,self.arr_y))\n",
    "        return w\n",
    "    \n",
    "    def ridge(self):\n",
    "        w = np.dot(inv(np.dot(self.arr_x.T,self.arr_x)+self.lamda*np.identity(21)),np.dot(self.arr_x.T,self.arr_y))\n",
    "        return w\n",
    "    \n",
    "    \n",
    "\n",
    "    \n",
    "    def updatebias(self,w,x,y):\n",
    "        sum = 0\n",
    "        for i in range(len(y)):\n",
    "            sum+=y[i]-np.dot(w,x[i])\n",
    "    \n",
    "        sum= sum/(len(y))\n",
    "        w[0] = w[0]+sum\n",
    "    \n",
    "    def updateunbias(self,w,x,y,row,lamda):\n",
    "        wi = w[row]\n",
    "        #compute the big part\n",
    "        tmpx = self.prunex(x,row)\n",
    "        xt = tmpx.T\n",
    "        numer = np.dot(xt,y-np.dot(x,w))-lamda/2\n",
    "        deno = np.dot(xt,tmpx)\n",
    "        \n",
    "        ans1 = numer/deno\n",
    "        \n",
    "        numer2 =  np.dot(xt,y-np.dot(x,w))+lamda/2\n",
    "        ans2 = numer2/deno\n",
    "        \n",
    "        #first case\n",
    "        if -ans1 < wi:\n",
    "            w[row]=wi+ans1\n",
    "        elif wi < -ans2:\n",
    "            w[row]=wi+ans2\n",
    "        elif wi>=-ans2 and wi<=-ans1:\n",
    "            w[row] = 0\n",
    "\n",
    "    def Lasso(self,lamda):\n",
    "        #create routine to update bias\n",
    "        #routine to update unbias\n",
    "        w =  np.full((21),1.0)\n",
    "        for _ in range(100):\n",
    "            for i in range(21):\n",
    "                if i == 0:\n",
    "                    self.updatebias(w,self.arr_x,self.arr_y)\n",
    "                else:\n",
    "                    self.updateunbias(w,self.arr_x,self.arr_y,i,lamda)\n",
    "        return w\n",
    "    \n",
    "    \n",
    "        \n",
    "    def prunex(self,x,row):\n",
    "        tmpx = []\n",
    "        for i in range(len(x)):\n",
    "            tmpx.append(x[i][row])\n",
    "        tmpx = np.asarray(tmpx)\n",
    "        return tmpx\n",
    "                       \n",
    "#     preditct section\n",
    "    def predict(self,w):\n",
    "        err = 0\n",
    "        arr_y = np.dot(self.arr_x,w)\n",
    "        for i in range(len(self.arr_y)):\n",
    "            err+=abs(arr_y[i]-self.arr_y[i])**2\n",
    "        return err\n",
    "    \n",
    "    \n",
    "    \n",
    "    def predict_true(self,x,y,w):\n",
    "        arr_x = np.asarray(x)\n",
    "        arr_y = np.asarray(y)\n",
    "        err = 0\n",
    "        arr_y_new = np.dot(arr_x,w)\n",
    "        for i in range(len(arr_y)):\n",
    "            err+=abs(arr_y_new[i]-arr_y[i])**2\n",
    "        return err\n",
    "    \n",
    "    \n",
    "    def ridge_predict(self,w):\n",
    "        err = 0\n",
    "        arr_y = np.dot(self.arr_x,w)\n",
    "        for i in range(len(self.arr_y)):\n",
    "            err+=abs(arr_y[i]-self.arr_y[i])**2\n",
    "#         err+=np.dot(w,w)*0.5*self.lamda\n",
    "        return err\n",
    "    \n",
    "    def true_ridge_predict(self,x,y,w):\n",
    "        arr_x = np.asarray(x)\n",
    "        arr_y = np.asarray(y)\n",
    "        err = 0\n",
    "        arr_y_new = np.dot(arr_x,w)\n",
    "        for i in range(len(arr_y)):\n",
    "            err+=abs(arr_y_new[i]-arr_y[i])**2\n",
    "#         err+=np.dot(w,w)*0.5*self.lamda\n",
    "        return err\n",
    "\n",
    "    def true_lasso_predict(self,x,y,w):\n",
    "        arr_x = np.asarray(x)\n",
    "        arr_y = np.asarray(y)\n",
    "        err = 0\n",
    "        arr_y_new = np.dot(arr_x,w)\n",
    "        for i in range(len(arr_y)):\n",
    "            err+=abs(arr_y_new[i]-arr_y[i])**2\n",
    "        return err\n",
    "    "
   ]
  },
  {
   "cell_type": "code",
   "execution_count": 15,
   "metadata": {},
   "outputs": [],
   "source": [
    "solver = Linear_Regression(d.train_arr,d.Y,0)"
   ]
  },
  {
   "cell_type": "markdown",
   "metadata": {},
   "source": [
    "# Question 1"
   ]
  },
  {
   "cell_type": "markdown",
   "metadata": {},
   "source": [
    "# Generate dataset of size 1000"
   ]
  },
  {
   "cell_type": "code",
   "execution_count": 458,
   "metadata": {},
   "outputs": [],
   "source": [
    "d = datasetgenerator(1000)"
   ]
  },
  {
   "cell_type": "markdown",
   "metadata": {},
   "source": [
    "# Use Least Square regreesion model to fit dataset"
   ]
  },
  {
   "cell_type": "code",
   "execution_count": 472,
   "metadata": {},
   "outputs": [],
   "source": [
    "solver = Linear_Regression(d.train_arr,d.Y,0)"
   ]
  },
  {
   "cell_type": "code",
   "execution_count": 473,
   "metadata": {},
   "outputs": [],
   "source": [
    "m = solver.LSR()"
   ]
  },
  {
   "cell_type": "markdown",
   "metadata": {},
   "source": [
    "# Out the the $\\underline{w}$ after training"
   ]
  },
  {
   "cell_type": "code",
   "execution_count": 474,
   "metadata": {},
   "outputs": [
    {
     "name": "stdout",
     "output_type": "stream",
     "text": [
      "[ 1.06107987e+01  3.49051515e-01  2.42289840e-01  1.41207074e-01\n",
      "  7.07439829e-02  3.13338976e-02  3.10735656e-02  3.55039573e-02\n",
      "  3.14759819e-02 -8.04133610e-03 -8.06906870e-04  9.19181565e-03\n",
      " -2.39783562e-02  7.27092811e-03 -2.12074934e-03  1.60000792e-03\n",
      " -1.50419527e-03 -1.18463064e-02 -1.98314360e-03  1.22167828e-03\n",
      " -9.55806159e-03]\n"
     ]
    }
   ],
   "source": [
    "print(m)"
   ]
  },
  {
   "cell_type": "markdown",
   "metadata": {},
   "source": [
    "Bias value is $1.06107987e+01$ which is almost equal to 10, and for weights, they are lists above from $m[1]$ to $m[20]$\n",
    "For comparision, the bias is almost equal to the true bias, as for the weighs, in true weights, as $i$ increases the weight should be smaller, which is consistent with the weights that I get using least square regression.\n"
   ]
  },
  {
   "cell_type": "markdown",
   "metadata": {},
   "source": [
    "The most significant feature is $m[0] = 1.06107987e+01$ which is the bias, the least significant feature is $m[19]$, based on the result, $\\underline{w}$ could be prune by omiting $\\underline{x}$ from $x_{5}$ to $x_{20}$, since the weight vector is too small on these x "
   ]
  },
  {
   "cell_type": "markdown",
   "metadata": {},
   "source": [
    "# Generate large dataset to estimate the 'true' error \n",
    "By cutting the dataset in the following ways:\n",
    "80% of dataset will be used to train model, 20% dataset only used to predict and conclude true error"
   ]
  },
  {
   "cell_type": "code",
   "execution_count": 181,
   "metadata": {},
   "outputs": [],
   "source": [
    "err = []\n",
    "d = datasetgenerator(800)\n",
    "d2 = datasetgenerator(200)\n",
    "for _ in range(100):\n",
    "    solver = Linear_Regression(d.train_arr,d.Y,0)\n",
    "    m = solver.LSR()\n",
    "    errtmp = solver.predict_true(d2.train_arr,d2.Y,m)\n",
    "    err.append(errtmp)"
   ]
  },
  {
   "cell_type": "code",
   "execution_count": 182,
   "metadata": {},
   "outputs": [
    {
     "data": {
      "text/plain": [
       "22.584851870054848"
      ]
     },
     "execution_count": 182,
     "metadata": {},
     "output_type": "execute_result"
    }
   ],
   "source": [
    "np.mean(err)"
   ]
  },
  {
   "cell_type": "markdown",
   "metadata": {},
   "source": [
    " The mean error shown above"
   ]
  },
  {
   "cell_type": "markdown",
   "metadata": {},
   "source": [
    "# Question 2"
   ]
  },
  {
   "cell_type": "code",
   "execution_count": 483,
   "metadata": {},
   "outputs": [],
   "source": [
    "d = datasetgenerator(1000)"
   ]
  },
  {
   "cell_type": "markdown",
   "metadata": {},
   "source": [
    "# Set $\\lambda$ to be 0.5"
   ]
  },
  {
   "cell_type": "code",
   "execution_count": 489,
   "metadata": {},
   "outputs": [],
   "source": [
    "solver = Linear_Regression(d.train_arr,d.Y,0.5)"
   ]
  },
  {
   "cell_type": "code",
   "execution_count": 490,
   "metadata": {},
   "outputs": [],
   "source": [
    "w = solver.ridge()"
   ]
  },
  {
   "cell_type": "markdown",
   "metadata": {},
   "source": [
    "# Print weight when $\\lambda$ = 0.5"
   ]
  },
  {
   "cell_type": "code",
   "execution_count": 491,
   "metadata": {},
   "outputs": [
    {
     "data": {
      "text/plain": [
       "array([ 7.25500906e+00,  8.89002390e-01,  1.75714370e-01,  1.16726730e-01,\n",
       "        4.71673539e-02,  4.01228152e-03,  6.23867122e-02, -4.23862586e-02,\n",
       "       -5.20504483e-02,  2.73475515e-02, -1.50919247e-03,  6.93042122e-02,\n",
       "        4.79683535e-02,  2.37696104e-02,  5.92617537e-04, -3.26268197e-01,\n",
       "        2.17159121e-03,  1.73037415e-02,  4.86569446e-03, -3.39331849e-03,\n",
       "       -1.01752440e-02])"
      ]
     },
     "execution_count": 491,
     "metadata": {},
     "output_type": "execute_result"
    }
   ],
   "source": [
    "w"
   ]
  },
  {
   "cell_type": "markdown",
   "metadata": {},
   "source": [
    "# Estimate the true error by evaluating that model on a large test dataset"
   ]
  },
  {
   "cell_type": "markdown",
   "metadata": {},
   "source": [
    "Generate large dataset to estimate the 'true' error\n",
    "By cutting the dataset in the following ways: 80% of dataset will be used to train model, 20% dataset only used to predict and conclude true error"
   ]
  },
  {
   "cell_type": "code",
   "execution_count": 492,
   "metadata": {},
   "outputs": [],
   "source": [
    "err = []\n",
    "d = datasetgenerator(8000)\n",
    "d2 = datasetgenerator(2000)\n",
    "for _ in range(100):\n",
    "    solver = Linear_Regression(d.train_arr,d.Y,0.5)\n",
    "    m = solver.ridge()\n",
    "    errtmp = solver.true_ridge_predict(d2.train_arr,d2.Y,m)\n",
    "    err.append(errtmp)"
   ]
  },
  {
   "cell_type": "code",
   "execution_count": 493,
   "metadata": {},
   "outputs": [
    {
     "data": {
      "text/plain": [
       "113.9849253736518"
      ]
     },
     "execution_count": 493,
     "metadata": {},
     "output_type": "execute_result"
    }
   ],
   "source": [
    "np.mean(err)"
   ]
  },
  {
   "cell_type": "markdown",
   "metadata": {},
   "source": [
    "# The mean error shown above"
   ]
  },
  {
   "cell_type": "markdown",
   "metadata": {},
   "source": [
    "# Plot estimated true error of the ridge regression model as a funciton of $\\lambda$ find optimal $\\lambda$"
   ]
  },
  {
   "cell_type": "code",
   "execution_count": 89,
   "metadata": {},
   "outputs": [],
   "source": [
    "lamda = 0\n",
    "err = []\n",
    "errlist = {}\n",
    "weightlist = {}\n",
    "lamdalist = []\n",
    "while lamda < 20:\n",
    "    d = datasetgenerator(800)\n",
    "    d2 = datasetgenerator(200)\n",
    "    solver = Linear_Regression(d.train_arr,d.Y,lamda)\n",
    "    m = solver.ridge()\n",
    "    errtmp = solver.true_ridge_predict(d2.train_arr,d2.Y,m)\n",
    "    errlist[errtmp]=lamda\n",
    "    err.append(errtmp)\n",
    "    weightlist[lamda] = m\n",
    "    lamdalist.append(lamda)\n",
    "    lamda+=0.1"
   ]
  },
  {
   "cell_type": "code",
   "execution_count": 90,
   "metadata": {},
   "outputs": [
    {
     "data": {
      "image/png": "[encoded data removed]",
      "text/plain": [
       "<Figure size 432x288 with 2 Axes>"
      ]
     },
     "metadata": {},
     "output_type": "display_data"
    }
   ],
   "source": [
    "fig, ax1 = plt.subplots()\n",
    "ax2 = ax1.twinx()\n",
    "\n",
    "ax1.plot(lamdalist,err,'g-')\n",
    "# ax2.plot(x_axis,err_history_train,'b-')\n",
    "ax1.set_xlabel('lambda')\n",
    "ax1.set_ylabel('true err',color = 'g')\n",
    "# ax2.set_ylabel('err_history_train',color = 'b')\n",
    "plt.show()"
   ]
  },
  {
   "cell_type": "code",
   "execution_count": 92,
   "metadata": {},
   "outputs": [],
   "source": [
    "err.sort()"
   ]
  },
  {
   "cell_type": "code",
   "execution_count": 93,
   "metadata": {},
   "outputs": [
    {
     "data": {
      "text/plain": [
       "0.30000000000000004"
      ]
     },
     "execution_count": 93,
     "metadata": {},
     "output_type": "execute_result"
    }
   ],
   "source": [
    "errlist.get(err[0])"
   ]
  },
  {
   "cell_type": "markdown",
   "metadata": {},
   "source": [
    "# Based on the result, the optimal $\\lambda$ is 0.3"
   ]
  },
  {
   "cell_type": "markdown",
   "metadata": {},
   "source": [
    "# $\\underline{w}$ is shown below with $\\lambda = 0.3$"
   ]
  },
  {
   "cell_type": "code",
   "execution_count": 97,
   "metadata": {},
   "outputs": [
    {
     "data": {
      "text/plain": [
       "array([ 7.57788679e+00,  9.17449373e-01,  2.99048228e-01,  1.94845585e-01,\n",
       "        7.85837244e-02,  6.92684804e-02,  1.41344683e-03,  2.87597457e-03,\n",
       "        8.76659820e-02,  9.88916481e-03,  1.43443348e-02,  2.17760115e-02,\n",
       "       -2.32190941e-02, -3.92328163e-03, -6.28655896e-03, -3.00720729e-01,\n",
       "       -1.66190435e-02, -4.80583333e-02, -1.87739563e-02, -2.16828995e-03,\n",
       "        9.18118808e-02])"
      ]
     },
     "execution_count": 97,
     "metadata": {},
     "output_type": "execute_result"
    }
   ],
   "source": [
    "weightlist.get(0.30000000000000004)"
   ]
  },
  {
   "cell_type": "markdown",
   "metadata": {},
   "source": [
    " The bias is $7.57788679e+00$ which is close to 10 as true bias, Also we could conclude that the computed weights are close to true weight, also the computed weights are in consistent with the true weights by showing that the weight with $i$ = 1 is largest, and weight is smaller when $i$ increases"
   ]
  },
  {
   "cell_type": "markdown",
   "metadata": {},
   "source": [
    " The Most significant feature is 7.57788679e+00 which is bias with the $\\underline{w} = 7.57788679e+00$, the least significant features is w[9] = 9.88916481e-03"
   ]
  },
  {
   "cell_type": "markdown",
   "metadata": {},
   "source": [
    " The optimal ridge regression is same as naive least squares model since  i get smallest error by set $\\lambda = 0.3$"
   ]
  },
  {
   "cell_type": "markdown",
   "metadata": {},
   "source": [
    "# Question 3"
   ]
  },
  {
   "cell_type": "markdown",
   "metadata": {},
   "source": [
    "# Show that m = 1000, as lamda increases, features are effectively eliminated from the model until all weights are set to zero"
   ]
  },
  {
   "cell_type": "markdown",
   "metadata": {},
   "source": [
    "# Iterate $\\lambda$ from 1 to 500"
   ]
  },
  {
   "cell_type": "code",
   "execution_count": 548,
   "metadata": {},
   "outputs": [],
   "source": [
    "lamda = 0\n",
    "err = []\n",
    "errlist = {}\n",
    "wlist = []\n",
    "lamda = 1\n",
    "d = datasetgenerator(1000)\n",
    "while lamda < 100:\n",
    "#     d2 = datasetgenerator(200)\n",
    "    solver = Linear_Regression(d.train_arr,d.Y,lamda)\n",
    "    m = solver.Lasso(lamda)\n",
    "    wlist.append(m)\n",
    "    lamda+=1"
   ]
  },
  {
   "cell_type": "code",
   "execution_count": 550,
   "metadata": {},
   "outputs": [
    {
     "name": "stdout",
     "output_type": "stream",
     "text": [
      "lamda = 0, weight is : \n",
      " [ 1.86635225e+01 -1.25462627e+00  1.97070546e-01  4.94781530e-02\n",
      "  1.46130396e-01  4.57962222e-02 -1.59719056e-02  4.46216537e-02\n",
      " -2.21981494e-02  9.12206419e-03 -3.46358427e-02 -3.85532891e-02\n",
      "  3.55689535e-02  1.30681394e-02 -2.89567808e-02  8.02339992e-01\n",
      " -5.02335601e-02 -4.45963551e-03  0.00000000e+00 -6.41386881e-02\n",
      "  1.26026263e-04]\n"
     ]
    }
   ],
   "source": [
    "print('lamda = 0, weight is : \\n',wlist[0])"
   ]
  },
  {
   "cell_type": "code",
   "execution_count": 551,
   "metadata": {},
   "outputs": [
    {
     "name": "stdout",
     "output_type": "stream",
     "text": [
      "lamda = 10, weight is : \n",
      " [ 1.85138279e+01 -1.16590227e+00  1.41748788e-01  0.00000000e+00\n",
      "  7.39821974e-02  3.83484313e-03  0.00000000e+00  0.00000000e+00\n",
      "  0.00000000e+00  0.00000000e+00  0.00000000e+00 -4.77874240e-02\n",
      "  4.90392895e-02  3.17492503e-02  0.00000000e+00  7.86419756e-01\n",
      "  0.00000000e+00  0.00000000e+00  0.00000000e+00 -4.82946169e-03\n",
      "  0.00000000e+00]\n"
     ]
    }
   ],
   "source": [
    "print('lamda = 10, weight is : \\n',wlist[10])"
   ]
  },
  {
   "cell_type": "code",
   "execution_count": 552,
   "metadata": {},
   "outputs": [
    {
     "name": "stdout",
     "output_type": "stream",
     "text": [
      "lamda = 20, weight is : \n",
      " [18.36794878 -1.08624766  0.09793209  0.          0.02090752  0.\n",
      "  0.          0.          0.          0.          0.         -0.05167319\n",
      "  0.0475359   0.03425361  0.          0.77132992  0.          0.\n",
      "  0.          0.          0.        ]\n"
     ]
    }
   ],
   "source": [
    "print('lamda = 20, weight is : \\n',wlist[20])"
   ]
  },
  {
   "cell_type": "code",
   "execution_count": 553,
   "metadata": {},
   "outputs": [
    {
     "name": "stdout",
     "output_type": "stream",
     "text": [
      "lamda = 50, weight is : \n",
      " [17.9370228  -0.84990085  0.          0.          0.          0.\n",
      "  0.          0.          0.          0.          0.         -0.05950684\n",
      "  0.04427381  0.          0.          0.72724697  0.          0.\n",
      "  0.          0.          0.        ]\n"
     ]
    }
   ],
   "source": [
    "print('lamda = 50, weight is : \\n',wlist[50])"
   ]
  },
  {
   "cell_type": "code",
   "execution_count": 556,
   "metadata": {},
   "outputs": [
    {
     "name": "stdout",
     "output_type": "stream",
     "text": [
      "lamda = 99, weight is : \n",
      " [17.25322521 -0.47569987  0.          0.          0.          0.\n",
      "  0.          0.          0.          0.          0.         -0.06562089\n",
      "  0.          0.          0.          0.65805565  0.          0.\n",
      "  0.          0.          0.        ]\n"
     ]
    }
   ],
   "source": [
    "print('lamda = 99, weight is : \\n',wlist[98])"
   ]
  },
  {
   "cell_type": "markdown",
   "metadata": {},
   "source": [
    "Obviously, based on the result of $\\underline{w}$ above, features are eliminated from model as $\\lambda$ increases"
   ]
  },
  {
   "cell_type": "markdown",
   "metadata": {},
   "source": [
    "# Question 4"
   ]
  },
  {
   "cell_type": "markdown",
   "metadata": {},
   "source": [
    " Plot estimated true error of the lasso regression model as a function of $\\lambda$"
   ]
  },
  {
   "cell_type": "code",
   "execution_count": 38,
   "metadata": {},
   "outputs": [],
   "source": [
    "lamda = 0\n",
    "lamdalist = []\n",
    "err = []\n",
    "errlist = {}\n",
    "weightlist = {}\n",
    "while lamda < 10:\n",
    "    d = datasetgenerator(800)\n",
    "    d2 = datasetgenerator(200)\n",
    "    solver = Linear_Regression(d.train_arr,d.Y,lamda)\n",
    "    m = solver.Lasso(lamda)\n",
    "    errtmp = solver.true_lasso_predict(d2.train_arr,d2.Y,m)\n",
    "    errlist[errtmp] = lamda\n",
    "    err.append(errtmp)\n",
    "    weightlist[lamda] = m\n",
    "    lamdalist.append(lamda)\n",
    "    lamda+=0.1"
   ]
  },
  {
   "cell_type": "code",
   "execution_count": 39,
   "metadata": {},
   "outputs": [
    {
     "data": {
      "image/png": "[encoded data removed]",
      "text/plain": [
       "<Figure size 432x288 with 2 Axes>"
      ]
     },
     "metadata": {},
     "output_type": "display_data"
    }
   ],
   "source": [
    "fig, ax1 = plt.subplots()\n",
    "ax2 = ax1.twinx()\n",
    "\n",
    "ax1.plot(lamdalist,err,'g-')\n",
    "# ax2.plot(x_axis,err_history_train,'b-')\n",
    "ax1.set_xlabel('lambda')\n",
    "ax1.set_ylabel('true err',color = 'g')\n",
    "# ax2.set_ylabel('err_history_train',color = 'b')\n",
    "plt.show()"
   ]
  },
  {
   "cell_type": "code",
   "execution_count": 40,
   "metadata": {},
   "outputs": [],
   "source": [
    "err.sort()"
   ]
  },
  {
   "cell_type": "code",
   "execution_count": 41,
   "metadata": {},
   "outputs": [
    {
     "data": {
      "text/plain": [
       "[24.83939932927559,\n",
       " 25.596604743257153,\n",
       " 25.72886048357984,\n",
       " 26.5313781308297,\n",
       " 26.61309386784236,\n",
       " 26.800274036963476,\n",
       " 27.991581886320052,\n",
       " 28.208830866138292,\n",
       " 28.289698575215365,\n",
       " 28.360280615333966,\n",
       " 28.672538756225933,\n",
       " 28.917728267609082,\n",
       " 29.179634137814325,\n",
       " 29.198612416948855,\n",
       " 29.20029182373005,\n",
       " 29.379632248599034,\n",
       " 29.437300454568586,\n",
       " 29.638229133222303,\n",
       " 29.65086128080013,\n",
       " 29.672225555223267,\n",
       " 29.78628448890545,\n",
       " 29.803430780456914,\n",
       " 29.89995129726027,\n",
       " 29.91945056831249,\n",
       " 29.960354754691554,\n",
       " 30.156403654667052,\n",
       " 30.280358063078506,\n",
       " 30.574394893825694,\n",
       " 30.740589862445333,\n",
       " 30.796049693472995,\n",
       " 31.233752209319306,\n",
       " 31.495983300355856,\n",
       " 31.506964673516585,\n",
       " 31.660865460150056,\n",
       " 31.700174422139362,\n",
       " 31.784173668962506,\n",
       " 31.929550158255775,\n",
       " 31.95398726526055,\n",
       " 31.99224326561053,\n",
       " 32.03173749319239,\n",
       " 32.158031559333836,\n",
       " 32.24168586760322,\n",
       " 32.34040211555271,\n",
       " 32.34664088012774,\n",
       " 32.388093606988285,\n",
       " 32.39716140124194,\n",
       " 32.49225579514239,\n",
       " 32.50439967904113,\n",
       " 32.52680542001795,\n",
       " 32.68550661499855,\n",
       " 32.70560236694421,\n",
       " 32.73196675849015,\n",
       " 32.772084724364696,\n",
       " 32.84972219974858,\n",
       " 32.99223402281053,\n",
       " 33.10037154613138,\n",
       " 33.114284811510885,\n",
       " 33.189568883537035,\n",
       " 33.20359178990646,\n",
       " 33.442281902737975,\n",
       " 33.47038504757449,\n",
       " 33.51859129949608,\n",
       " 33.534299246859895,\n",
       " 33.59549412832069,\n",
       " 33.66557629689548,\n",
       " 33.69666935646059,\n",
       " 33.735113025076615,\n",
       " 33.98982611923022,\n",
       " 34.11274500798698,\n",
       " 34.20819700403397,\n",
       " 34.69952367385022,\n",
       " 34.90528561004014,\n",
       " 34.9136249406987,\n",
       " 35.0170840661748,\n",
       " 35.28422135072676,\n",
       " 35.49111369002718,\n",
       " 35.75950352355564,\n",
       " 35.83047625780728,\n",
       " 35.834115539475704,\n",
       " 35.8648558556783,\n",
       " 36.12590369647864,\n",
       " 36.366805524947296,\n",
       " 36.421812974560424,\n",
       " 36.72254164242253,\n",
       " 36.792986055878345,\n",
       " 36.94705705622751,\n",
       " 37.15361385724447,\n",
       " 37.41253654516106,\n",
       " 37.892772407832716,\n",
       " 38.02862578753011,\n",
       " 38.09657503078583,\n",
       " 38.339174016593965,\n",
       " 38.45797597290189,\n",
       " 38.46611077769858,\n",
       " 38.80341313235229,\n",
       " 39.695983368252755,\n",
       " 39.73649407286671,\n",
       " 39.805371234289254,\n",
       " 40.07708441192097,\n",
       " 40.33262932826198,\n",
       " 41.28854130913118]"
      ]
     },
     "execution_count": 41,
     "metadata": {},
     "output_type": "execute_result"
    }
   ],
   "source": [
    "err"
   ]
  },
  {
   "cell_type": "code",
   "execution_count": 51,
   "metadata": {},
   "outputs": [
    {
     "data": {
      "text/plain": [
       "4.699999999999999"
      ]
     },
     "execution_count": 51,
     "metadata": {},
     "output_type": "execute_result"
    }
   ],
   "source": [
    "errlist.get(24.83939932927559)"
   ]
  },
  {
   "cell_type": "markdown",
   "metadata": {},
   "source": [
    "The optimal $\\lambda$ to minimize the true error is 4.699999999999999"
   ]
  },
  {
   "cell_type": "markdown",
   "metadata": {},
   "source": [
    "# Below is the $bias$ as w[0] and $\\underline{w}$ from w[1] to w[20]]"
   ]
  },
  {
   "cell_type": "code",
   "execution_count": 53,
   "metadata": {},
   "outputs": [
    {
     "name": "stdout",
     "output_type": "stream",
     "text": [
      "[ 1.86909294e+01 -1.16311013e+00  6.95342582e-02  8.50570696e-02\n",
      "  0.00000000e+00  4.03991037e-02  6.88407817e-04  1.58201809e-02\n",
      "  0.00000000e+00  0.00000000e+00  0.00000000e+00 -9.07225963e-03\n",
      "  0.00000000e+00  1.07087971e-01 -2.30090821e-03  8.07721861e-01\n",
      "  3.38872326e-02  0.00000000e+00  0.00000000e+00 -3.27777590e-02\n",
      "  0.00000000e+00]\n"
     ]
    }
   ],
   "source": [
    "w = weightlist.get(4.699999999999999)\n",
    "print(w)"
   ]
  },
  {
   "cell_type": "markdown",
   "metadata": {},
   "source": [
    " For comparsion, the bias computed is 18.69 while the true bias should be 10, for the weight only w[1],w[2],w[3],w[5],w[6],w[7],w[11],w[13],w[14],w[15],w[16],w[19] is considered."
   ]
  },
  {
   "cell_type": "markdown",
   "metadata": {},
   "source": [
    "# What did your model conclude as the most significant and least significant features?\n",
    "The most significant features are bias which is w[0], the least significant features are those equls to zero:\n",
    "w[4],w[8],w[9],w[10],w[12],w[17],w[18],w[20]. We could prune this by deletting all the above least signifiant features"
   ]
  },
  {
   "cell_type": "markdown",
   "metadata": {},
   "source": [
    "# The err of optimal lasso regreesion model is 24.83939932927559, while the error of naive least squares model is 19.97416151822447\n"
   ]
  },
  {
   "cell_type": "markdown",
   "metadata": {},
   "source": [
    "# Question 5"
   ]
  },
  {
   "cell_type": "code",
   "execution_count": 135,
   "metadata": {},
   "outputs": [],
   "source": [
    "d = datasetgenerator(800)\n",
    "d2 = datasetgenerator(200)"
   ]
  },
  {
   "cell_type": "markdown",
   "metadata": {},
   "source": [
    "# Based on the answer from question 4, I will set all x to be 0 when j = 4,8,9,10,12,17,18,20 as to prune the model. Based on Question 2, i will use $\\lambda = 0.3$ for ridge regression"
   ]
  },
  {
   "cell_type": "code",
   "execution_count": 185,
   "metadata": {},
   "outputs": [],
   "source": [
    "def prune(x):\n",
    "    arr_x = np.asarray(x)\n",
    "    for i in range(len(arr_x)):\n",
    "        for j in range(1,21):\n",
    "            if j == 4 or j == 8 or j == 10 or j == 12 or j == 17 or j == 18 or j == 20:\n",
    "                arr_x[i][j] = 0\n",
    "    return arr_x"
   ]
  },
  {
   "cell_type": "code",
   "execution_count": 190,
   "metadata": {},
   "outputs": [
    {
     "data": {
      "text/plain": [
       "24.039501519466615"
      ]
     },
     "execution_count": 190,
     "metadata": {},
     "output_type": "execute_result"
    }
   ],
   "source": [
    "err"
   ]
  },
  {
   "cell_type": "code",
   "execution_count": 191,
   "metadata": {},
   "outputs": [],
   "source": [
    "errlist = []\n",
    "for _ in range(100):\n",
    "    d = datasetgenerator(800)\n",
    "    d2 = datasetgenerator(200)\n",
    "    arr_x = prune(d.train_arr)\n",
    "    solver = Linear_Regression(arr_x,d.Y,0.3)\n",
    "    w = solver.ridge()\n",
    "    err = solver.true_ridge_predict(d2.train_arr,d2.Y,w)\n",
    "    errlist.append(err)"
   ]
  },
  {
   "cell_type": "code",
   "execution_count": 192,
   "metadata": {},
   "outputs": [
    {
     "data": {
      "text/plain": [
       "21.962187455580555"
      ]
     },
     "execution_count": 192,
     "metadata": {},
     "output_type": "execute_result"
    }
   ],
   "source": [
    "np.mean(errlist)"
   ]
  },
  {
   "cell_type": "markdown",
   "metadata": {},
   "source": [
    "# How can you determine a good ridge regression regularization constant to use here?"
   ]
  },
  {
   "cell_type": "markdown",
   "metadata": {},
   "source": [
    "I would enumerate $\\lambda$ from 0 to 20 with the same process above the see which $\\lambda$ can give me the smallest error"
   ]
  },
  {
   "cell_type": "markdown",
   "metadata": {},
   "source": [
    "# How does the resulting lasso-ridge combination model compare to the naive least square model?"
   ]
  },
  {
   "cell_type": "markdown",
   "metadata": {},
   "source": [
    "The result model of lasso-ridge consider less features and gets better result, The error by naive least square model is 22.584851870054848 while the error got by lasso-ridge model is 21.962187455580555, lasso-ridge model gets better result"
   ]
  },
  {
   "cell_type": "markdown",
   "metadata": {},
   "source": [
    "# What features does it conclude are significant or relatively insignificant? How do the testing error s of these two models"
   ]
  },
  {
   "cell_type": "code",
   "execution_count": 194,
   "metadata": {},
   "outputs": [
    {
     "data": {
      "text/plain": [
       "array([ 7.87374530e+00,  8.97707495e-01,  2.41427457e-01,  1.18106486e-01,\n",
       "        0.00000000e+00,  9.03748400e-03,  4.56780593e-02, -2.39974119e-02,\n",
       "        0.00000000e+00, -1.12542890e-02,  0.00000000e+00, -1.38928503e-02,\n",
       "        0.00000000e+00,  2.78415714e-02, -1.63383080e-02, -2.73214227e-01,\n",
       "        5.31563090e-02,  0.00000000e+00,  0.00000000e+00,  2.81241413e-03,\n",
       "        0.00000000e+00])"
      ]
     },
     "execution_count": 194,
     "metadata": {},
     "output_type": "execute_result"
    }
   ],
   "source": [
    "w"
   ]
  },
  {
   "cell_type": "markdown",
   "metadata": {},
   "source": [
    "# $\\underline{w} $ as weight vector of lasso-ridge model shown above"
   ]
  },
  {
   "cell_type": "markdown",
   "metadata": {},
   "source": [
    "We could find that the bias is most significant feature which is 7.87374530, the least significant features are w[4],w[8],w[10],w[12],w[17],w[18],w[20], those features are all equals to zero"
   ]
  },
  {
   "cell_type": "markdown",
   "metadata": {},
   "source": [
    "# How do the testing errors of these two models compare"
   ]
  },
  {
   "cell_type": "markdown",
   "metadata": {},
   "source": [
    "The error by naive least square model is 22.584851870054848 while the error got by lasso-ridge model is 21.962187455580555, lasso-ridge model gets better result"
   ]
  },
  {
   "cell_type": "code",
   "execution_count": null,
   "metadata": {},
   "outputs": [],
   "source": []
  },
  {
   "cell_type": "code",
   "execution_count": null,
   "metadata": {},
   "outputs": [],
   "source": []
  },
  {
   "cell_type": "code",
   "execution_count": null,
   "metadata": {},
   "outputs": [],
   "source": []
  }
 ],
 "metadata": {
  "kernelspec": {
   "display_name": "Python 3",
   "language": "python",
   "name": "python3"
  },
  "language_info": {
   "codemirror_mode": {
    "name": "ipython",
    "version": 3
   },
   "file_extension": ".py",
   "mimetype": "text/x-python",
   "name": "python",
   "nbconvert_exporter": "python",
   "pygments_lexer": "ipython3",
   "version": "3.6.5"
  }
 },
 "nbformat": 4,
 "nbformat_minor": 2
}
